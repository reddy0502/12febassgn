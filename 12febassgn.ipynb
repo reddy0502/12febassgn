{
 "cells": [
  {
   "cell_type": "markdown",
   "id": "017fd8e6-62f5-4e56-a867-0a48af1f2fde",
   "metadata": {},
   "source": [
    "1ans:"
   ]
  },
  {
   "cell_type": "markdown",
   "id": "9d4a9743-bb83-4afe-a1ee-22d325dcf8ef",
   "metadata": {},
   "source": [
    "In Python, an exception is an error that occurs during the execution of a program. Exceptions are typically caused by unexpected conditions or events that occur while the program is running, such as a division by zero or an attempt to access an undefined variable. When an exception occurs, Python stops executing the current code block and looks for a handler to deal with the exception."
   ]
  },
  {
   "cell_type": "markdown",
   "id": "5749a21d-6b47-4622-aa5f-de6c270dfcc9",
   "metadata": {},
   "source": [
    "The main difference between exceptions and syntax errors is that exceptions are errors that occur during the execution of a program, while syntax errors are errors that are detected by Python before the program is run due to incorrect syntax."
   ]
  },
  {
   "cell_type": "markdown",
   "id": "96501127-fecb-48dc-8bbf-5a2ffd33ee1a",
   "metadata": {},
   "source": [
    "2ans:"
   ]
  },
  {
   "cell_type": "markdown",
   "id": "b5850c06-9479-4529-a77b-e8d9c93f6e50",
   "metadata": {},
   "source": [
    "When an exception is not handled, the program will terminate abruptly and an error message will be displayed to the user. This is because the program does not know how to handle the error or exception that occurred, and therefore cannot recover from it."
   ]
  },
  {
   "cell_type": "code",
   "execution_count": 1,
   "id": "ba563fcc-3da2-47a7-9fef-633342587aa6",
   "metadata": {},
   "outputs": [
    {
     "ename": "ZeroDivisionError",
     "evalue": "division by zero",
     "output_type": "error",
     "traceback": [
      "\u001b[0;31m---------------------------------------------------------------------------\u001b[0m",
      "\u001b[0;31mZeroDivisionError\u001b[0m                         Traceback (most recent call last)",
      "Cell \u001b[0;32mIn[1], line 4\u001b[0m\n\u001b[1;32m      1\u001b[0m \u001b[38;5;28;01mdef\u001b[39;00m \u001b[38;5;21mdivide\u001b[39m(x, y):\n\u001b[1;32m      2\u001b[0m     \u001b[38;5;28;01mreturn\u001b[39;00m x \u001b[38;5;241m/\u001b[39m y\n\u001b[0;32m----> 4\u001b[0m result \u001b[38;5;241m=\u001b[39m \u001b[43mdivide\u001b[49m\u001b[43m(\u001b[49m\u001b[38;5;241;43m10\u001b[39;49m\u001b[43m,\u001b[49m\u001b[43m \u001b[49m\u001b[38;5;241;43m0\u001b[39;49m\u001b[43m)\u001b[49m\n\u001b[1;32m      5\u001b[0m \u001b[38;5;28mprint\u001b[39m(result)\n",
      "Cell \u001b[0;32mIn[1], line 2\u001b[0m, in \u001b[0;36mdivide\u001b[0;34m(x, y)\u001b[0m\n\u001b[1;32m      1\u001b[0m \u001b[38;5;28;01mdef\u001b[39;00m \u001b[38;5;21mdivide\u001b[39m(x, y):\n\u001b[0;32m----> 2\u001b[0m     \u001b[38;5;28;01mreturn\u001b[39;00m \u001b[43mx\u001b[49m\u001b[43m \u001b[49m\u001b[38;5;241;43m/\u001b[39;49m\u001b[43m \u001b[49m\u001b[43my\u001b[49m\n",
      "\u001b[0;31mZeroDivisionError\u001b[0m: division by zero"
     ]
    }
   ],
   "source": [
    "\n",
    "def divide(x, y):\n",
    "    return x / y\n",
    "\n",
    "result = divide(10, 0)\n",
    "print(result)\n"
   ]
  },
  {
   "cell_type": "markdown",
   "id": "02df81c6-79d8-4f5e-a2c6-774356a3de2c",
   "metadata": {},
   "source": [
    "3ans:"
   ]
  },
  {
   "cell_type": "markdown",
   "id": "a233b179-8dea-4a59-bd8c-b507796f6155",
   "metadata": {},
   "source": [
    "In Python, the try and except statements are used to catch and handle exceptions.\n",
    " Any statements in the try block that raise an exception of the specified ExceptionType will cause control to jump immediately to the corresponding except block."
   ]
  },
  {
   "cell_type": "code",
   "execution_count": 2,
   "id": "20cb6f21-29c6-4ac0-a693-1f57257fe4b0",
   "metadata": {},
   "outputs": [
    {
     "name": "stdout",
     "output_type": "stream",
     "text": [
      "Error: Cannot divide by zero!\n"
     ]
    }
   ],
   "source": [
    "\n",
    "dividend = 10\n",
    "divisor = 0\n",
    "try:\n",
    "    quotient = dividend / divisor\n",
    "except ZeroDivisionError:\n",
    "    print(\"Error: Cannot divide by zero!\")\n"
   ]
  },
  {
   "cell_type": "markdown",
   "id": "f3d9eca2-a605-474c-a392-5e5916a01359",
   "metadata": {},
   "source": [
    "4ans:"
   ]
  },
  {
   "cell_type": "markdown",
   "id": "16cce8af-cffd-4c51-b894-fd004bcaaa18",
   "metadata": {},
   "source": [
    "The try/except block is used to catch and handle exceptions that may occur in a program. This statement consists of a try block, which contains the code that may raise an exception, and an except block, which contains the code that will handle the exception if it occurs.\n",
    "\n",
    "The finally block is used to specify a block of code that will be executed regardless of whether an exception is raised or not. This is useful for closing files, releasing resources, or performing other cleanup tasks.\n",
    "\n",
    "The raise statement is used to raise an exception in a program. This statement can be used to create custom exceptions or to re-raise an existing exception with additional information.\n"
   ]
  },
  {
   "cell_type": "code",
   "execution_count": 4,
   "id": "977d3aa9-56de-4c12-8f04-26cd53148000",
   "metadata": {},
   "outputs": [
    {
     "name": "stdout",
     "output_type": "stream",
     "text": [
      "Division by zero is not allowed\n"
     ]
    }
   ],
   "source": [
    "try:\n",
    "    a = 10 / 0\n",
    "except ZeroDivisionError:\n",
    "    print(\"Division by zero is not allowed\")\n"
   ]
  },
  {
   "cell_type": "code",
   "execution_count": 6,
   "id": "08bac5da-68b6-4b37-924c-88ee011608cd",
   "metadata": {},
   "outputs": [],
   "source": [
    "try:\n",
    "    f = open(\"file.txt\")\n",
    "   \n",
    "finally:\n",
    "    f.close()\n"
   ]
  },
  {
   "cell_type": "code",
   "execution_count": null,
   "id": "5025a22d-c065-4080-b6cc-f38d621a6a4d",
   "metadata": {},
   "outputs": [
    {
     "ename": "ValueError",
     "evalue": "Number cannot be negative",
     "output_type": "error",
     "traceback": [
      "\u001b[0;31m---------------------------------------------------------------------------\u001b[0m",
      "\u001b[0;31mValueError\u001b[0m                                Traceback (most recent call last)",
      "Cell \u001b[0;32mIn[7], line 3\u001b[0m\n\u001b[1;32m      1\u001b[0m x \u001b[38;5;241m=\u001b[39m \u001b[38;5;241m-\u001b[39m\u001b[38;5;241m1\u001b[39m\n\u001b[1;32m      2\u001b[0m \u001b[38;5;28;01mif\u001b[39;00m x \u001b[38;5;241m<\u001b[39m \u001b[38;5;241m0\u001b[39m:\n\u001b[0;32m----> 3\u001b[0m     \u001b[38;5;28;01mraise\u001b[39;00m \u001b[38;5;167;01mValueError\u001b[39;00m(\u001b[38;5;124m\"\u001b[39m\u001b[38;5;124mNumber cannot be negative\u001b[39m\u001b[38;5;124m\"\u001b[39m)\n",
      "\u001b[0;31mValueError\u001b[0m: Number cannot be negative"
     ]
    }
   ],
   "source": [
    "x = -1\n",
    "if x < 0:\n",
    "    raise ValueError(\"Number cannot be negative\")\n"
   ]
  },
  {
   "cell_type": "markdown",
   "id": "5f3737d4-0854-402f-a591-ceb8479a45f3",
   "metadata": {},
   "source": [
    "5ans:"
   ]
  },
  {
   "cell_type": "markdown",
   "id": "256d7f1a-8ac4-41d8-91e2-05a5c75895f0",
   "metadata": {},
   "source": [
    "In Python, custom exceptions are user-defined exceptions that can be used to handle specific errors that may occur in a program. \n",
    "\n",
    "For example, suppose you are developing a program that interacts with a database. If a connection error occurs, you might want to raise a custom exception to handle that error specifically."
   ]
  },
  {
   "cell_type": "code",
   "execution_count": null,
   "id": "c7df4d2f-b53e-41ea-b4c7-ac0d8446a7a3",
   "metadata": {},
   "outputs": [],
   "source": [
    "def connect_to_database():\n",
    "  \n",
    "    try:\n",
    "       pass\n",
    "    except:\n",
    "        raise DatabaseConnectionError(\"Unable to connect to database.\")\n"
   ]
  },
  {
   "cell_type": "code",
   "execution_count": null,
   "id": "d516b421-a2f0-4397-a424-51b3ef351d19",
   "metadata": {},
   "outputs": [],
   "source": []
  }
 ],
 "metadata": {
  "kernelspec": {
   "display_name": "Python 3 (ipykernel)",
   "language": "python",
   "name": "python3"
  },
  "language_info": {
   "codemirror_mode": {
    "name": "ipython",
    "version": 3
   },
   "file_extension": ".py",
   "mimetype": "text/x-python",
   "name": "python",
   "nbconvert_exporter": "python",
   "pygments_lexer": "ipython3",
   "version": "3.10.8"
  }
 },
 "nbformat": 4,
 "nbformat_minor": 5
}
